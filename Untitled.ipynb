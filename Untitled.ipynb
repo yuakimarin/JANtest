{
 "cells": [
  {
   "cell_type": "code",
   "execution_count": 1,
   "metadata": {},
   "outputs": [],
   "source": [
    "import pandas as pd\n",
    "import numpy as np\n",
    "import matplotlib as plt\n",
    "import seaborn as sns\n",
    "from sklearn.linear_model import LinearRegression"
   ]
  },
  {
   "cell_type": "code",
   "execution_count": 2,
   "metadata": {},
   "outputs": [],
   "source": [
    "#JANコードが与えられた時にNANを取り除いてJANを整数に変換して返す関数\n",
    "#引数として与えるファイルは、一応JANコード、商品名の二つのカラムを含むとする。\n",
    "#jan_df.csv   should have 2columns::::::::::: [JAN:string or float,商品名:string]\n",
    "def castJAN(jan_csv):\n",
    "    jan=pd.read_csv(jan_csv,sep=',',encoding='shift-jis')\n",
    "    # NANをドロップ\n",
    "    jan=jan.dropna(how='any')\n",
    "    #NULLがあるとキャストがうまくされないがNANがなければキャスト可能。JANコードのところをintegerにキャストする\n",
    "    jan=jan.astype({'JAN':int})\n",
    "    return jan"
   ]
  },
  {
   "cell_type": "code",
   "execution_count": 3,
   "metadata": {},
   "outputs": [],
   "source": [
    "#二つのJAN,商品名の集合が与えられた時に、重複しているもの（積集合）を返す関数。\n",
    "def dup_JAN(jan_set1,jan_set2):\n",
    "    jan_code1=castJAN(jan_set1)\n",
    "    jan_code2=castJAN(jan_set2)\n",
    "    #重複しているものだけを取り出す\n",
    "    #同じJANのものでマージすると片方の集合にしかないものはNANになる\n",
    "    jan_con=pd.merge(jan_code1,jan_code2,on='JAN',how='outer')\n",
    "    #NANのあるものを削除する\n",
    "    jan_con=jan_con.dropna()\n",
    "    #商品名のカラムが重複するため削除し、JAN、商品名の２列にする\n",
    "    jan_con=jan_con.iloc[:,[0,1]]\n",
    "    return jan_con"
   ]
  },
  {
   "cell_type": "code",
   "execution_count": 4,
   "metadata": {},
   "outputs": [],
   "source": [
    "#indexを削除してcsvに書き込むときはto_csvのindexをfalseに設定する\n",
    "def memo_____csv_index_non():\n",
    "    temp=pd.read_csv('jan1.csv')\n",
    "    temp=temp.iloc[:,[1,2]]\n",
    "    temp\n",
    "    temp.to_csv('jan1.csv',index=False)\n",
    "    "
   ]
  },
  {
   "cell_type": "code",
   "execution_count": 5,
   "metadata": {},
   "outputs": [],
   "source": [
    "jan=dup_JAN ('jan1.csv','jan2.csv')\n"
   ]
  },
  {
   "cell_type": "code",
   "execution_count": 6,
   "metadata": {},
   "outputs": [],
   "source": [
    "jan.to_csv('result.csv',encoding='shift-jis',index=False)"
   ]
  },
  {
   "cell_type": "code",
   "execution_count": null,
   "metadata": {},
   "outputs": [],
   "source": []
  },
  {
   "cell_type": "code",
   "execution_count": null,
   "metadata": {},
   "outputs": [],
   "source": []
  }
 ],
 "metadata": {
  "kernelspec": {
   "display_name": "Python 3",
   "language": "python",
   "name": "python3"
  },
  "language_info": {
   "codemirror_mode": {
    "name": "ipython",
    "version": 3
   },
   "file_extension": ".py",
   "mimetype": "text/x-python",
   "name": "python",
   "nbconvert_exporter": "python",
   "pygments_lexer": "ipython3",
   "version": "3.6.6"
  }
 },
 "nbformat": 4,
 "nbformat_minor": 4
}
