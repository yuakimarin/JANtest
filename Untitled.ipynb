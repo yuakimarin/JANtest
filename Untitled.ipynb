{
 "cells": [
  {
   "cell_type": "code",
   "execution_count": 1,
   "metadata": {},
   "outputs": [],
   "source": [
    "import pandas as pd\n",
    "import numpy as np\n",
    "import matplotlib as plt\n",
    "import seaborn as sns\n",
    "from sklearn.linear_model import LinearRegression"
   ]
  },
  {
   "cell_type": "code",
   "execution_count": 45,
   "metadata": {},
   "outputs": [],
   "source": [
    "#JANコードが与えられた時にNANを取り除いてJANを整数に変換して返す関数\n",
    "#jan_df.csv   should have 2columns::::::::::: [JAN:string or float,商品名:string]\n",
    "def castJAN(jan_df):\n",
    "    jan=pd.read_csv(jan_df,sep=',')\n",
    "    # NANをドロップ\n",
    "    jan=jan.dropna(how='any')\n",
    "    #NULLがあるとキャストがうまくされないがNANがなければキャスト可能。JANコードのところをintegerにキャストする\n",
    "    jan=jan.astype({'JAN':int})\n",
    "    return jan"
   ]
  },
  {
   "cell_type": "code",
   "execution_count": 46,
   "metadata": {},
   "outputs": [],
   "source": [
    "#二つのJAN,商品名の集合が与えられた時に、重複しているもの（積集合）を返す関数。\n",
    "def dup_JAN(jan_set1,jan_set2):\n",
    "    #重複しているものだけを取り出す\n",
    "    #同じJANのものでマージすると片方の集合にしかないものはNANになる\n",
    "    jan_con=pd.merge(jan_code1,jan_code2,on='JAN',how='outer')\n",
    "    #NANのあるものを削除する\n",
    "    jan_con.dropna()\n",
    "    return jan_con"
   ]
  },
  {
   "cell_type": "code",
   "execution_count": null,
   "metadata": {},
   "outputs": [],
   "source": []
  },
  {
   "cell_type": "code",
   "execution_count": null,
   "metadata": {},
   "outputs": [],
   "source": []
  },
  {
   "cell_type": "code",
   "execution_count": 35,
   "metadata": {
    "scrolled": true
   },
   "outputs": [
    {
     "name": "stdout",
     "output_type": "stream",
     "text": [
      "JAN    float64\n",
      "商品名     object\n",
      "dtype: object\n"
     ]
    },
    {
     "data": {
      "text/plain": [
       "<bound method NDFrame.describe of              JAN                            商品名\n",
       "0  4516344071034               NEEDLEWORK ﾒｼﾞｬｰ\n",
       "1  4516344071058         NEEDLEWORK ﾐﾆｿｰｲﾝｸﾞｾｯﾄ\n",
       "2  4516344071072   NEEDLEWORK ｿｰｲﾝｸﾞﾊﾞｽｹｯﾄ ｽｸｴｱ\n",
       "3  4516344071096  NEEDLEWORK ｿｰｲﾝｸﾞﾊﾞｽｹｯﾄ ﾗｳﾝﾄﾞ\n",
       "4  4516344071119         NEEDLEWORK ｿｰｲﾝｸﾞﾎﾞｯｸｽ\n",
       "5  4516344076527            ﾄﾗｯﾄﾞﾌﾞﾗﾝｹｯﾄ SPRUCE\n",
       "6  4516344076534            ﾄﾗｯﾄﾞﾌﾞﾗﾝｹｯﾄ SPRUCE\n",
       "7  4516344077005            ﾄﾗｯﾄﾞﾌﾞﾗﾝｹｯﾄ SPRUCE>"
      ]
     },
     "execution_count": 35,
     "metadata": {},
     "output_type": "execute_result"
    }
   ],
   "source": [
    "#データはネット上にあるものをお借りしたもの。お洒落。\n",
    "jan2=pd.read_csv('jan2.csv',sep=',')\n",
    "jan2.columns\n",
    "jan_code2=jan2.iloc[:,[7,2]]\n",
    "#カラム名を追加する\n",
    "jan_code2.columns=['JAN','商品名']\n",
    "#JANのNANの数を表示\n",
    "jan_code2.isnull().sum()\n",
    "# NANをドロップ\n",
    "jan_code2=jan_code2.dropna(how='any')\n",
    "#NANが含まれるとき、その列はfloat扱いになってしまう\n",
    "print( jan_code2.dtypes)\n",
    "#もう一回nullがないかかくにん。もうない。\n",
    "jan_code2.isnull().any()\n",
    "#NULLがあるとキャストがうまくされないがNANがなければキャスト可能。JANコードのところをintegerにキャストする\n",
    "jan_code2=jan_code2.astype({'JAN':int})\n",
    "jan_code2.describe"
   ]
  },
  {
   "cell_type": "code",
   "execution_count": 36,
   "metadata": {},
   "outputs": [],
   "source": [
    "jan1=pd.read_csv('jan1.csv',sep=',')\n",
    "jan1=jan1.drop([0,1,2])"
   ]
  },
  {
   "cell_type": "code",
   "execution_count": 37,
   "metadata": {},
   "outputs": [
    {
     "name": "stdout",
     "output_type": "stream",
     "text": [
      "JAN    object\n",
      "商品名    object\n",
      "dtype: object\n"
     ]
    }
   ],
   "source": [
    "jan_code1=jan1.iloc[:,[7,2]]\n",
    "#カラム名を追加する\n",
    "jan_code1.columns=['JAN','商品名']\n",
    "#JANのNANの数を表示\n",
    "jan_code1.isnull().sum()\n",
    "# NANをドロップ\n",
    "jan_code1=jan_code1.dropna(how='any')\n",
    "#NANが含まれるとき、その列はfloat扱いになってしまう\n",
    "print( jan_code1.dtypes)\n",
    "#もう一回nullがないかかくにん。もうない。\n",
    "jan_code1.isnull().any()\n",
    "#NULLがあるとキャストがうまくされないがNANがなければキャスト可能。JANコードのところをintegerにキャストする\n",
    "jan_code1=jan_code1.astype({'JAN':int})"
   ]
  },
  {
   "cell_type": "code",
   "execution_count": 38,
   "metadata": {},
   "outputs": [
    {
     "data": {
      "text/html": [
       "<div>\n",
       "<style scoped>\n",
       "    .dataframe tbody tr th:only-of-type {\n",
       "        vertical-align: middle;\n",
       "    }\n",
       "\n",
       "    .dataframe tbody tr th {\n",
       "        vertical-align: top;\n",
       "    }\n",
       "\n",
       "    .dataframe thead th {\n",
       "        text-align: right;\n",
       "    }\n",
       "</style>\n",
       "<table border=\"1\" class=\"dataframe\">\n",
       "  <thead>\n",
       "    <tr style=\"text-align: right;\">\n",
       "      <th></th>\n",
       "      <th>JAN</th>\n",
       "      <th>商品名_x</th>\n",
       "      <th>商品名_y</th>\n",
       "    </tr>\n",
       "  </thead>\n",
       "  <tbody>\n",
       "    <tr>\n",
       "      <th>0</th>\n",
       "      <td>4516344079146</td>\n",
       "      <td>good day cafe 耐熱ﾊﾟｽﾀｼﾞｬｰ 2.15L</td>\n",
       "      <td>NaN</td>\n",
       "    </tr>\n",
       "    <tr>\n",
       "      <th>1</th>\n",
       "      <td>4516344079153</td>\n",
       "      <td>good day cafe 耐熱ｶﾞﾗｽｼﾞｬｰ 1.25L</td>\n",
       "      <td>NaN</td>\n",
       "    </tr>\n",
       "    <tr>\n",
       "      <th>2</th>\n",
       "      <td>4516344079160</td>\n",
       "      <td>good day cafe 耐熱ｶﾞﾗｽｼﾞｬｰ 0.75L</td>\n",
       "      <td>NaN</td>\n",
       "    </tr>\n",
       "    <tr>\n",
       "      <th>3</th>\n",
       "      <td>4516344079177</td>\n",
       "      <td>good day cafe 耐熱ｶﾞﾗｽｼﾞｬｰ 0.63L</td>\n",
       "      <td>NaN</td>\n",
       "    </tr>\n",
       "    <tr>\n",
       "      <th>4</th>\n",
       "      <td>4516344079184</td>\n",
       "      <td>good day cafe 耐熱ｶﾞﾗｽｼﾞｬｰ 0.3L</td>\n",
       "      <td>NaN</td>\n",
       "    </tr>\n",
       "    <tr>\n",
       "      <th>...</th>\n",
       "      <td>...</td>\n",
       "      <td>...</td>\n",
       "      <td>...</td>\n",
       "    </tr>\n",
       "    <tr>\n",
       "      <th>280</th>\n",
       "      <td>4516344071096</td>\n",
       "      <td>NEEDLEWORK ｿｰｲﾝｸﾞﾊﾞｽｹｯﾄ ﾗｳﾝﾄﾞ</td>\n",
       "      <td>NEEDLEWORK ｿｰｲﾝｸﾞﾊﾞｽｹｯﾄ ﾗｳﾝﾄﾞ</td>\n",
       "    </tr>\n",
       "    <tr>\n",
       "      <th>281</th>\n",
       "      <td>4516344071119</td>\n",
       "      <td>NEEDLEWORK ｿｰｲﾝｸﾞﾎﾞｯｸｽ</td>\n",
       "      <td>NEEDLEWORK ｿｰｲﾝｸﾞﾎﾞｯｸｽ</td>\n",
       "    </tr>\n",
       "    <tr>\n",
       "      <th>282</th>\n",
       "      <td>4516344076527</td>\n",
       "      <td>ﾄﾗｯﾄﾞﾌﾞﾗﾝｹｯﾄ SPRUCE</td>\n",
       "      <td>ﾄﾗｯﾄﾞﾌﾞﾗﾝｹｯﾄ SPRUCE</td>\n",
       "    </tr>\n",
       "    <tr>\n",
       "      <th>283</th>\n",
       "      <td>4516344076534</td>\n",
       "      <td>ﾄﾗｯﾄﾞﾌﾞﾗﾝｹｯﾄ SPRUCE</td>\n",
       "      <td>ﾄﾗｯﾄﾞﾌﾞﾗﾝｹｯﾄ SPRUCE</td>\n",
       "    </tr>\n",
       "    <tr>\n",
       "      <th>284</th>\n",
       "      <td>4516344077005</td>\n",
       "      <td>ﾄﾗｯﾄﾞﾌﾞﾗﾝｹｯﾄ SPRUCE</td>\n",
       "      <td>ﾄﾗｯﾄﾞﾌﾞﾗﾝｹｯﾄ SPRUCE</td>\n",
       "    </tr>\n",
       "  </tbody>\n",
       "</table>\n",
       "<p>285 rows × 3 columns</p>\n",
       "</div>"
      ],
      "text/plain": [
       "               JAN                           商品名_x  \\\n",
       "0    4516344079146  good day cafe 耐熱ﾊﾟｽﾀｼﾞｬｰ 2.15L   \n",
       "1    4516344079153  good day cafe 耐熱ｶﾞﾗｽｼﾞｬｰ 1.25L   \n",
       "2    4516344079160  good day cafe 耐熱ｶﾞﾗｽｼﾞｬｰ 0.75L   \n",
       "3    4516344079177  good day cafe 耐熱ｶﾞﾗｽｼﾞｬｰ 0.63L   \n",
       "4    4516344079184   good day cafe 耐熱ｶﾞﾗｽｼﾞｬｰ 0.3L   \n",
       "..             ...                             ...   \n",
       "280  4516344071096   NEEDLEWORK ｿｰｲﾝｸﾞﾊﾞｽｹｯﾄ ﾗｳﾝﾄﾞ   \n",
       "281  4516344071119          NEEDLEWORK ｿｰｲﾝｸﾞﾎﾞｯｸｽ   \n",
       "282  4516344076527             ﾄﾗｯﾄﾞﾌﾞﾗﾝｹｯﾄ SPRUCE   \n",
       "283  4516344076534             ﾄﾗｯﾄﾞﾌﾞﾗﾝｹｯﾄ SPRUCE   \n",
       "284  4516344077005             ﾄﾗｯﾄﾞﾌﾞﾗﾝｹｯﾄ SPRUCE   \n",
       "\n",
       "                             商品名_y  \n",
       "0                              NaN  \n",
       "1                              NaN  \n",
       "2                              NaN  \n",
       "3                              NaN  \n",
       "4                              NaN  \n",
       "..                             ...  \n",
       "280  NEEDLEWORK ｿｰｲﾝｸﾞﾊﾞｽｹｯﾄ ﾗｳﾝﾄﾞ  \n",
       "281         NEEDLEWORK ｿｰｲﾝｸﾞﾎﾞｯｸｽ  \n",
       "282            ﾄﾗｯﾄﾞﾌﾞﾗﾝｹｯﾄ SPRUCE  \n",
       "283            ﾄﾗｯﾄﾞﾌﾞﾗﾝｹｯﾄ SPRUCE  \n",
       "284            ﾄﾗｯﾄﾞﾌﾞﾗﾝｹｯﾄ SPRUCE  \n",
       "\n",
       "[285 rows x 3 columns]"
      ]
     },
     "execution_count": 38,
     "metadata": {},
     "output_type": "execute_result"
    }
   ],
   "source": [
    "#重複しているものだけを取り出す\n",
    "#同じJANのものでマージすると片方の集合にしかないものはNANになる\n",
    "jan_con=pd.merge(jan_code1,jan_code2,on='JAN',how='outer')\n",
    "#NANのあるものを削除する\n",
    "jan_con.dropna()"
   ]
  },
  {
   "cell_type": "code",
   "execution_count": 39,
   "metadata": {},
   "outputs": [
    {
     "data": {
      "text/html": [
       "<div>\n",
       "<style scoped>\n",
       "    .dataframe tbody tr th:only-of-type {\n",
       "        vertical-align: middle;\n",
       "    }\n",
       "\n",
       "    .dataframe tbody tr th {\n",
       "        vertical-align: top;\n",
       "    }\n",
       "\n",
       "    .dataframe thead th {\n",
       "        text-align: right;\n",
       "    }\n",
       "</style>\n",
       "<table border=\"1\" class=\"dataframe\">\n",
       "  <thead>\n",
       "    <tr style=\"text-align: right;\">\n",
       "      <th></th>\n",
       "      <th>JAN</th>\n",
       "      <th>商品名_x</th>\n",
       "      <th>商品名_y</th>\n",
       "    </tr>\n",
       "  </thead>\n",
       "  <tbody>\n",
       "    <tr>\n",
       "      <th>277</th>\n",
       "      <td>4516344071034</td>\n",
       "      <td>NEEDLEWORK ﾒｼﾞｬｰ</td>\n",
       "      <td>NEEDLEWORK ﾒｼﾞｬｰ</td>\n",
       "    </tr>\n",
       "    <tr>\n",
       "      <th>278</th>\n",
       "      <td>4516344071058</td>\n",
       "      <td>NEEDLEWORK ﾐﾆｿｰｲﾝｸﾞｾｯﾄ</td>\n",
       "      <td>NEEDLEWORK ﾐﾆｿｰｲﾝｸﾞｾｯﾄ</td>\n",
       "    </tr>\n",
       "    <tr>\n",
       "      <th>279</th>\n",
       "      <td>4516344071072</td>\n",
       "      <td>NEEDLEWORK ｿｰｲﾝｸﾞﾊﾞｽｹｯﾄ ｽｸｴｱ</td>\n",
       "      <td>NEEDLEWORK ｿｰｲﾝｸﾞﾊﾞｽｹｯﾄ ｽｸｴｱ</td>\n",
       "    </tr>\n",
       "    <tr>\n",
       "      <th>280</th>\n",
       "      <td>4516344071096</td>\n",
       "      <td>NEEDLEWORK ｿｰｲﾝｸﾞﾊﾞｽｹｯﾄ ﾗｳﾝﾄﾞ</td>\n",
       "      <td>NEEDLEWORK ｿｰｲﾝｸﾞﾊﾞｽｹｯﾄ ﾗｳﾝﾄﾞ</td>\n",
       "    </tr>\n",
       "    <tr>\n",
       "      <th>281</th>\n",
       "      <td>4516344071119</td>\n",
       "      <td>NEEDLEWORK ｿｰｲﾝｸﾞﾎﾞｯｸｽ</td>\n",
       "      <td>NEEDLEWORK ｿｰｲﾝｸﾞﾎﾞｯｸｽ</td>\n",
       "    </tr>\n",
       "    <tr>\n",
       "      <th>282</th>\n",
       "      <td>4516344076527</td>\n",
       "      <td>ﾄﾗｯﾄﾞﾌﾞﾗﾝｹｯﾄ SPRUCE</td>\n",
       "      <td>ﾄﾗｯﾄﾞﾌﾞﾗﾝｹｯﾄ SPRUCE</td>\n",
       "    </tr>\n",
       "    <tr>\n",
       "      <th>283</th>\n",
       "      <td>4516344076534</td>\n",
       "      <td>ﾄﾗｯﾄﾞﾌﾞﾗﾝｹｯﾄ SPRUCE</td>\n",
       "      <td>ﾄﾗｯﾄﾞﾌﾞﾗﾝｹｯﾄ SPRUCE</td>\n",
       "    </tr>\n",
       "    <tr>\n",
       "      <th>284</th>\n",
       "      <td>4516344077005</td>\n",
       "      <td>ﾄﾗｯﾄﾞﾌﾞﾗﾝｹｯﾄ SPRUCE</td>\n",
       "      <td>ﾄﾗｯﾄﾞﾌﾞﾗﾝｹｯﾄ SPRUCE</td>\n",
       "    </tr>\n",
       "  </tbody>\n",
       "</table>\n",
       "</div>"
      ],
      "text/plain": [
       "               JAN                          商品名_x  \\\n",
       "277  4516344071034               NEEDLEWORK ﾒｼﾞｬｰ   \n",
       "278  4516344071058         NEEDLEWORK ﾐﾆｿｰｲﾝｸﾞｾｯﾄ   \n",
       "279  4516344071072   NEEDLEWORK ｿｰｲﾝｸﾞﾊﾞｽｹｯﾄ ｽｸｴｱ   \n",
       "280  4516344071096  NEEDLEWORK ｿｰｲﾝｸﾞﾊﾞｽｹｯﾄ ﾗｳﾝﾄﾞ   \n",
       "281  4516344071119         NEEDLEWORK ｿｰｲﾝｸﾞﾎﾞｯｸｽ   \n",
       "282  4516344076527            ﾄﾗｯﾄﾞﾌﾞﾗﾝｹｯﾄ SPRUCE   \n",
       "283  4516344076534            ﾄﾗｯﾄﾞﾌﾞﾗﾝｹｯﾄ SPRUCE   \n",
       "284  4516344077005            ﾄﾗｯﾄﾞﾌﾞﾗﾝｹｯﾄ SPRUCE   \n",
       "\n",
       "                             商品名_y  \n",
       "277               NEEDLEWORK ﾒｼﾞｬｰ  \n",
       "278         NEEDLEWORK ﾐﾆｿｰｲﾝｸﾞｾｯﾄ  \n",
       "279   NEEDLEWORK ｿｰｲﾝｸﾞﾊﾞｽｹｯﾄ ｽｸｴｱ  \n",
       "280  NEEDLEWORK ｿｰｲﾝｸﾞﾊﾞｽｹｯﾄ ﾗｳﾝﾄﾞ  \n",
       "281         NEEDLEWORK ｿｰｲﾝｸﾞﾎﾞｯｸｽ  \n",
       "282            ﾄﾗｯﾄﾞﾌﾞﾗﾝｹｯﾄ SPRUCE  \n",
       "283            ﾄﾗｯﾄﾞﾌﾞﾗﾝｹｯﾄ SPRUCE  \n",
       "284            ﾄﾗｯﾄﾞﾌﾞﾗﾝｹｯﾄ SPRUCE  "
      ]
     },
     "execution_count": 39,
     "metadata": {},
     "output_type": "execute_result"
    }
   ],
   "source": [
    "#NANはありますか？あります。\n",
    "jan_con.isnull().any()\n",
    "#NANのあるものを削除する\n",
    "jan_con.dropna()"
   ]
  },
  {
   "cell_type": "code",
   "execution_count": null,
   "metadata": {},
   "outputs": [],
   "source": []
  },
  {
   "cell_type": "code",
   "execution_count": null,
   "metadata": {},
   "outputs": [],
   "source": []
  }
 ],
 "metadata": {
  "kernelspec": {
   "display_name": "Python 3",
   "language": "python",
   "name": "python3"
  },
  "language_info": {
   "codemirror_mode": {
    "name": "ipython",
    "version": 3
   },
   "file_extension": ".py",
   "mimetype": "text/x-python",
   "name": "python",
   "nbconvert_exporter": "python",
   "pygments_lexer": "ipython3",
   "version": "3.6.6"
  }
 },
 "nbformat": 4,
 "nbformat_minor": 4
}
