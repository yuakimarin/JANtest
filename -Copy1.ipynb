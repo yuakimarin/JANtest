{
 "cells": [
  {
   "cell_type": "code",
   "execution_count": 1,
   "metadata": {},
   "outputs": [],
   "source": [
    "import pandas as pd\n",
    "import numpy as np\n",
    "import matplotlib as plt\n",
    "import seaborn as sns\n",
    "from sklearn.linear_model import LinearRegression"
   ]
  },
  {
   "cell_type": "code",
   "execution_count": 2,
   "metadata": {},
   "outputs": [],
   "source": [
    "#JANコードが与えられた時にNANを取り除いてJANを整数に変換して返す関数\n",
    "#引数として与えるファイルは、一応JANコード、商品名の二つのカラムを含むとする。\n",
    "#jan_df.csv   should have 2columns::::::::::: [JAN:string or float,商品名:string]\n",
    "def castJAN(jan_csv):\n",
    "    jan=pd.read_csv(jan_csv,sep=',')\n",
    "    # NANをドロップ\n",
    "    jan=jan.dropna(how='any')\n",
    "    #NULLがあるとキャストがうまくされないがNANがなければキャスト可能。JANコードのところをintegerにキャストする\n",
    "    jan=jan.astype({'JAN':int})\n",
    "    return jan"
   ]
  },
  {
   "cell_type": "code",
   "execution_count": 3,
   "metadata": {},
   "outputs": [],
   "source": [
    "#二つのJAN,商品名の集合が与えられた時に、重複しているもの（積集合）を返す関数。\n",
    "def dup_JAN(jan_set1,jan_set2):\n",
    "    jan_code1=castJAN(jan_set1)\n",
    "    jan_code2=castJAN(jan_set2)\n",
    "    #重複しているものだけを取り出す\n",
    "    #同じJANのものでマージすると片方の集合にしかないものはNANになる\n",
    "    jan_con=pd.merge(jan_code1,jan_code2,on='JAN',how='outer')\n",
    "    #NANのあるものを削除する\n",
    "    jan_con=jan_con.dropna()\n",
    "    #商品名のカラムが重複するため削除し、JAN、商品名の２列にする\n",
    "    jan_con=jan_con.iloc[:,[0,1]]\n",
    "    return jan_con"
   ]
  },
  {
   "cell_type": "code",
   "execution_count": 4,
   "metadata": {},
   "outputs": [],
   "source": [
    "#indexを削除してcsvに書き込むときはto_csvのindexをfalseに設定する\n",
    "def memo_____csv_index_non():\n",
    "    temp=pd.read_csv('jan1.csv')\n",
    "    temp=temp.iloc[:,[1,2]]\n",
    "    temp\n",
    "    temp.to_csv('jan1.csv',index=False)\n",
    "    "
   ]
  },
  {
   "cell_type": "code",
   "execution_count": 5,
   "metadata": {},
   "outputs": [
    {
     "name": "stdout",
     "output_type": "stream",
     "text": [
      "               JAN                             商品名\n",
      "0    4516344079146  good day cafe 耐熱ﾊﾟｽﾀｼﾞｬｰ 2.15L\n",
      "1    4516344079153  good day cafe 耐熱ｶﾞﾗｽｼﾞｬｰ 1.25L\n",
      "2    4516344079160  good day cafe 耐熱ｶﾞﾗｽｼﾞｬｰ 0.75L\n",
      "3    4516344079177  good day cafe 耐熱ｶﾞﾗｽｼﾞｬｰ 0.63L\n",
      "4    4516344079184   good day cafe 耐熱ｶﾞﾗｽｼﾞｬｰ 0.3L\n",
      "..             ...                             ...\n",
      "281  4516344071096   NEEDLEWORK ｿｰｲﾝｸﾞﾊﾞｽｹｯﾄ ﾗｳﾝﾄﾞ\n",
      "282  4516344071119          NEEDLEWORK ｿｰｲﾝｸﾞﾎﾞｯｸｽ\n",
      "283  4516344076527             ﾄﾗｯﾄﾞﾌﾞﾗﾝｹｯﾄ SPRUCE\n",
      "284  4516344076534             ﾄﾗｯﾄﾞﾌﾞﾗﾝｹｯﾄ SPRUCE\n",
      "285  4516344077005             ﾄﾗｯﾄﾞﾌﾞﾗﾝｹｯﾄ SPRUCE\n",
      "\n",
      "[285 rows x 2 columns]\n",
      "             JAN                             商品名\n",
      "0  4516344079146  good day cafe 耐熱ﾊﾟｽﾀｼﾞｬｰ 2.15L\n",
      "1  4516344079153  good day cafe 耐熱ｶﾞﾗｽｼﾞｬｰ 1.25L\n",
      "2  4516344079160  good day cafe 耐熱ｶﾞﾗｽｼﾞｬｰ 0.75L\n",
      "3  4516344079177  good day cafe 耐熱ｶﾞﾗｽｼﾞｬｰ 0.63L\n",
      "4  4516344079184   good day cafe 耐熱ｶﾞﾗｽｼﾞｬｰ 0.3L\n",
      "5  4516344079191  good day cafe 耐熱ｶﾞﾗｽｼﾞｬｰ 0.25L\n",
      "6  4516344079207   good day cafe 耐熱ｶﾞﾗｽｼﾞｬｰ 0.2L\n"
     ]
    }
   ],
   "source": [
    "jan=dup_JAN ('jan1.csv','jan2.csv')\n"
   ]
  },
  {
   "cell_type": "code",
   "execution_count": 6,
   "metadata": {},
   "outputs": [
    {
     "data": {
      "text/html": [
       "<div>\n",
       "<style scoped>\n",
       "    .dataframe tbody tr th:only-of-type {\n",
       "        vertical-align: middle;\n",
       "    }\n",
       "\n",
       "    .dataframe tbody tr th {\n",
       "        vertical-align: top;\n",
       "    }\n",
       "\n",
       "    .dataframe thead th {\n",
       "        text-align: right;\n",
       "    }\n",
       "</style>\n",
       "<table border=\"1\" class=\"dataframe\">\n",
       "  <thead>\n",
       "    <tr style=\"text-align: right;\">\n",
       "      <th></th>\n",
       "      <th>JAN</th>\n",
       "      <th>商品名_x</th>\n",
       "    </tr>\n",
       "  </thead>\n",
       "  <tbody>\n",
       "    <tr>\n",
       "      <th>0</th>\n",
       "      <td>4516344079146</td>\n",
       "      <td>good day cafe 耐熱ﾊﾟｽﾀｼﾞｬｰ 2.15L</td>\n",
       "    </tr>\n",
       "    <tr>\n",
       "      <th>1</th>\n",
       "      <td>4516344079153</td>\n",
       "      <td>good day cafe 耐熱ｶﾞﾗｽｼﾞｬｰ 1.25L</td>\n",
       "    </tr>\n",
       "    <tr>\n",
       "      <th>2</th>\n",
       "      <td>4516344079160</td>\n",
       "      <td>good day cafe 耐熱ｶﾞﾗｽｼﾞｬｰ 0.75L</td>\n",
       "    </tr>\n",
       "    <tr>\n",
       "      <th>3</th>\n",
       "      <td>4516344079177</td>\n",
       "      <td>good day cafe 耐熱ｶﾞﾗｽｼﾞｬｰ 0.63L</td>\n",
       "    </tr>\n",
       "    <tr>\n",
       "      <th>4</th>\n",
       "      <td>4516344079184</td>\n",
       "      <td>good day cafe 耐熱ｶﾞﾗｽｼﾞｬｰ 0.3L</td>\n",
       "    </tr>\n",
       "    <tr>\n",
       "      <th>5</th>\n",
       "      <td>4516344079191</td>\n",
       "      <td>good day cafe 耐熱ｶﾞﾗｽｼﾞｬｰ 0.25L</td>\n",
       "    </tr>\n",
       "    <tr>\n",
       "      <th>6</th>\n",
       "      <td>4516344079207</td>\n",
       "      <td>good day cafe 耐熱ｶﾞﾗｽｼﾞｬｰ 0.2L</td>\n",
       "    </tr>\n",
       "  </tbody>\n",
       "</table>\n",
       "</div>"
      ],
      "text/plain": [
       "             JAN                           商品名_x\n",
       "0  4516344079146  good day cafe 耐熱ﾊﾟｽﾀｼﾞｬｰ 2.15L\n",
       "1  4516344079153  good day cafe 耐熱ｶﾞﾗｽｼﾞｬｰ 1.25L\n",
       "2  4516344079160  good day cafe 耐熱ｶﾞﾗｽｼﾞｬｰ 0.75L\n",
       "3  4516344079177  good day cafe 耐熱ｶﾞﾗｽｼﾞｬｰ 0.63L\n",
       "4  4516344079184   good day cafe 耐熱ｶﾞﾗｽｼﾞｬｰ 0.3L\n",
       "5  4516344079191  good day cafe 耐熱ｶﾞﾗｽｼﾞｬｰ 0.25L\n",
       "6  4516344079207   good day cafe 耐熱ｶﾞﾗｽｼﾞｬｰ 0.2L"
      ]
     },
     "execution_count": 6,
     "metadata": {},
     "output_type": "execute_result"
    }
   ],
   "source": [
    "jan"
   ]
  },
  {
   "cell_type": "code",
   "execution_count": null,
   "metadata": {},
   "outputs": [],
   "source": []
  },
  {
   "cell_type": "code",
   "execution_count": null,
   "metadata": {},
   "outputs": [],
   "source": []
  }
 ],
 "metadata": {
  "kernelspec": {
   "display_name": "Python 3",
   "language": "python",
   "name": "python3"
  },
  "language_info": {
   "codemirror_mode": {
    "name": "ipython",
    "version": 3
   },
   "file_extension": ".py",
   "mimetype": "text/x-python",
   "name": "python",
   "nbconvert_exporter": "python",
   "pygments_lexer": "ipython3",
   "version": "3.6.6"
  }
 },
 "nbformat": 4,
 "nbformat_minor": 4
}
